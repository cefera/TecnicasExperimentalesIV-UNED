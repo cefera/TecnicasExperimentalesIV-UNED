{
 "cells": [
  {
   "cell_type": "markdown",
   "id": "0ad6206a",
   "metadata": {
    "id": "0ad6206a"
   },
   "source": [
    "<img src=\"https://upload.wikimedia.org/wikipedia/commons/2/25/LogoUNED.jpg\" width=\"120\" height=\"120\" />\n",
    "\n",
    "\n",
    "# Práctica de Simulaciones de Física de Partículas\n",
    "\n",
    "# Técnicas Experimentales IV \n",
    "\n",
    "## Grado en Física - UNED \n",
    "\n",
    "----------------------------------------------------------\n",
    "\n",
    "**Para la realización de esta práctica se recomienda repasar la \"Parte V Partículas Elementales\" del libro <a href=\"http://portal.uned.es/portal/page?_pageid=93,70654783&_dad=portal&_schema=PORTAL&idAsignatura=6104403-&idContenido=11&idTitulacion=\">\"Física Nuclear y de Partículas\"</a> de Antonio Ferrer Soria, Amalia Williart Torres y María Shaw Martos que constituye la bibliografía básica de la asignatura de Física Nuclear y de Partículas del Grado en Física de la UNED. A lo largo de la práctica dicho libro será referenciado como [FNYP].**\n",
    "\n",
    "Esta práctica es parte de un programa piloto de la asignatura de Técnicas Experimentales IV, por ello su realización es voluntaria. Con su realización se puede obtener hasta 1 punto más (sólo en el caso de que se obtenga una calificación en la práctica voluntaria mayor o igual a 5 sobre 10), que se sumará a la nota obtenida en las prácticas presenciales de Física Nuclear, si en estas se ha obtenido una calificación de 4 ó más puntos. Si no la realizan no influye negativamente en la nota final. La realización de la práctica nunca influirá negativamente en la calificación de la asignatura.\n",
    "\n",
    "Dado que es parte de un programa piloto se agradecen los comentarios y las sugerencias que ayuden a mejorarla. Cualquier consulta, sugerencia o duda puede ser dirigida a César Fernández Ramírez (cefera@ccia.uned.es) o al foro *Consultas sobre la práctica voluntaria de Simulaciones de Física de Partículas* incluido dentro de la pestaña de *Física Nuclear* del AGORA de la asignatura.\n",
    "\n",
    "Toda la documentación de la práctica se puede encontrar y descargar en: https://github.com/cefera/TecnicasExperimentalesIV-UNED/tree/main/2b_scat\n",
    "\n",
    "----------------------------------------------------------"
   ]
  },
  {
   "cell_type": "markdown",
   "id": "a4821a30",
   "metadata": {},
   "source": [
    "\n",
    "----------------------------------------------------------\n",
    "\n",
    "Para comenzar, lo primero hace falta que introduzca sus datos en la siguiente celda. Para ello, haga doble click en la celda y rellene los campos. Cuando lo haya hecho pulse <kbd>Shift</kbd>+<kbd>Enter</kbd>\n",
    "\n",
    "----------------------------------------------------------"
   ]
  },
  {
   "cell_type": "markdown",
   "id": "a5b1f11e",
   "metadata": {},
   "source": [
    "> ---\n",
    "> - **NOMBRE:** \n",
    "> - **APELLIDOS:** \n",
    "> - **DNI/NIE/PASAPORTE:** \n",
    "> - **FECHA (dd/mm/aaaa):** \n",
    "> ---"
   ]
  },
  {
   "cell_type": "markdown",
   "id": "2681c48a",
   "metadata": {
    "id": "2681c48a"
   },
   "source": [
    "## Descripción del proceso físico de colisión\n",
    "\n",
    "En esta práctica estudiaremos una versión simplificada de un reacción de colisión elástica de dos piones cargados (más sobre piones en las secciones 12.2.2 y 14.3 de [FNYP]):\n",
    "\n",
    "$$\\pi^+ + \\pi^- \\to \\pi^+ + \\pi^-$$\n",
    "\n",
    "El motivo de elegir esta reacción es por su sencillez, ya que el pión no tiene espín y eso simplifica la estructura de la amplitud de colisión $\\cal A$ a partir de la cuál se puede calcular la sección eficaz de la reacción.\n",
    "\n",
    "Supongamos que tenemos dos haces de protones que colisionamos contra dos bloques de berilio como se muestra en la figura\n",
    "\n",
    "<img src=\"./figura1.png\" width=\"500\" height=\"500\" />\n",
    "\n",
    "\n",
    "Si desea saber algo más sobre cómo se generan haces de piones en laboratorios un punto de comienzo es: https://en.wikipedia.org/wiki/COMPASS_experiment (en inglés)\n",
    "\n",
    "La colisión genera una cascada de piones. A continuación ponemos unos imanes que curvan las partículas cargadas en función de sus carga y su energía. De esa manera podemos seleccionar los $\\pi^+$ ($\\pi^-$) dentro de un cierto rango de energías para que colisionen en una zona concreta donde tenemos los detectores de partículas (polígono azul) que detectarán el momento y ángulo de los piones que se produzca en la colisión. A cada par de piones $\\pi^+ \\pi^-$ detectados que se produjeron en la misma colisión se le denomina *evento*.\n",
    "\n",
    "En esta práctica numérica vamos a generar **eventos** para esta reacción según un modelo sencillo y vamos a ver qué aspecto tiene la sección eficaz resultante y cómo la física subyacente se expresa en la sección eficaz.\n",
    "\n",
    "En primer lugar, debemos tener claro que en muchos casos, los piones incidentes no interaccionarán en absoluto. Pasarán *de largo* sin enterarse de que había otro pión cerca. Esos piones los vamos a ignorar, ya que el objetivo de un experimento así es aprender qué ocurre cuando los piones *interaccionan*. Eliminar esos piones de los datos experimentales no es sencillo pero es factible si conocemos el espectro de energías de los piones generado por la colisión del haz de protones con el Berilio. Vamos a suponer que dicho espectro de energías es uniforme en el rango de energías considerados. Es decir, todas las energías posibles son equiprobables.\n",
    "\n",
    "Para los pares de piones que sí han interaccionado, lo primero que necesitamos es ver la cinemática de la reacción. Para ello nos situamos en el sistema de referencia del centro de masas. Dicha colisión se produce en un plano y conociendo dos magnitudes cinemáticas, por ejemplo la energía del sistema $\\pi^+ \\pi^-$ inicial y el ángulo de dispersión $\\theta$ de los piones eyectados podemos caracterizar toda la cinemática del proceso. \n",
    "\n",
    "<img src=\"./figura2.png\" width=\"350\" height=\"350\" />\n",
    "\n",
    "\n",
    "Los dos piones finales son recogidos por los detectores, sean cuales sean sus ángulos de salida y para cada par de piones se puede reconstruir cuál es la energía final del par de piones en el sistema de referencia del centro de masas. Vamos a llamar a dicha energía $W$ y a su cuadrado $s=W^2$. \n",
    "\n",
    "Con lo que terminaremos con la siguiente información: un cantidad $N_\\text{ini}$ de pares de piones producidos inicialmente a unas determinadas energías $W$ en su sistema de referencia centro de masas y una cantidad pares de piones $N_\\text{fin}$ finales que interaccionaron con una energía $W$ en su sistema de referencia centro de masas.\n",
    "\n",
    "La probabilidad de que a una determinada energía los piones iniciales interacciones vendrá determinada por el cociente entre cuántos pares de piones se produjeron a dicha energía y cuántos interaccionaron:\n",
    "\n",
    "$P(W)=N_\\text{fin}(W) / N_\\text{ini}(W)$ \n",
    "\n",
    "\n",
    "## Descripción del modelo\n",
    "\n",
    "Lo que vamos a hacer en esta práctica es simular numéricamente este proceso mediante un modelo sencillo de la interacción $\\pi^+ \\pi^-$ y calcular este cociente $P(W)$. El modelo va a contener cierta física que vamos a determinar y dicha física hará que $P(W)$ dependa de la energía y se produzcan estructuras en nuestros pseudodatos experimentales. En  concreto el modelo va a contener dos tipos de contribuciones: (a) un *fondo* (diagrama izquierdo) y (b) *resonancias hadrónicas* (diagrama derecho)\n",
    "\n",
    "<img src=\"./resonancia.png\" width=\"550\" height=\"550\" />\n",
    "\n",
    "A estos diagramas se les denomina *diagramas de Feynman* (ver página 436 de [FNYP]). El fondo es la colisión pión-pión elástica sin ninguna dinámica adicional. Las resonancias son estados que se forman en los procesos de colisión. En este caso particular, los dos piones iniciales se fusionarían en una resonancia hadrónica que posteriormente decairía a los dos piones que finalemente detectamos. Lo que pretendemos ver es precisamente las estructuras que inducen este tipo de resonancias hadrónicas. Un ejemplo de resonancia hadrónica que se produce en el proceso de colisión $\\pi^+ \\pi^-$ y la $\\rho$ (https://es.wikipedia.org/wiki/Mes%C3%B3n_rho). Nótese que la resonancia será de carga eléctrica neutra ya que los piones tienen carga opuesta."
   ]
  },
  {
   "cell_type": "markdown",
   "id": "fbab359b",
   "metadata": {
    "id": "fbab359b"
   },
   "source": [
    "## Cómo ejecutar código y carga de librerías\n",
    "\n",
    "El primer paso consiste en cargar ciertas librerías que posteriormente utilizaremos. Para ello, hace falta ejecutar la celda que aparece a continuación. \n",
    "\n",
    "Cada celda ejecutable es precedida por **[ ]:**. Cuando la celda es ejecutada, aparece un número dentro del corchete **[ ]** o un símbolo de *Play*.\n",
    "\n",
    "Una celda se ejecuta pinchando en ella y pulsando  <kbd>Shift</kbd>+<kbd>Enter</kbd> o bien pasando el cursor por la celda y donde estaba el corchete **[ ]** aparecerá un botón de *Play* que al pincharlo ejecutara la celda.\n",
    "\n",
    "Ejecute la siguiente celda"
   ]
  },
  {
   "cell_type": "code",
   "execution_count": null,
   "id": "2db5a88a",
   "metadata": {
    "id": "2db5a88a"
   },
   "outputs": [],
   "source": [
    "###########################################################################################\n",
    "#\n",
    "#   Librerias\n",
    "#\n",
    "###########################################################################################\n",
    "\n",
    "###########################################################################################\n",
    "#   Esta es una librería con funciones de cálculo numérico.\n",
    "#   Si programa en Python siempre la va a utilizar.\n",
    "###########################################################################################\n",
    "import numpy as np\n",
    "\n",
    "###########################################################################################\n",
    "#   Esta es la librería para hacer interpolaciones de funciones en una dimensión\n",
    "#   Se utiliza en la generación de los pseudodatos\n",
    "###########################################################################################\n",
    "from scipy.interpolate import interp1d\n",
    "\n",
    "###########################################################################################\n",
    "#   Esta librería contiene los polinomios de Legendre que son necesarios en la\n",
    "#   definición del modelo\n",
    "###########################################################################################\n",
    "from scipy.special import legendre\n",
    "\n",
    "###########################################################################################\n",
    "#   Esta es la libreria para hacer figuras y la definición de los colores que usaremos\n",
    "###########################################################################################\n",
    "import matplotlib.pyplot as plt\n",
    "\n",
    "jpac_blue   = \"#1F77B4\"; jpac_red    = \"#D61D28\";\n",
    "jpac_green  = \"#2CA02C\"; jpac_orange = \"#FF7F0E\";\n",
    "jpac_purple = \"#9467BD\"; jpac_brown  = \"#8C564B\";\n",
    "jpac_pink   = \"#E377C2\"; jpac_gold   = \"#BCBD22\";\n",
    "jpac_aqua   = \"#17BECF\"; jpac_grey   = \"#7F7F7F\";\n",
    "\n",
    "colores = [jpac_blue, jpac_red, jpac_green, \n",
    "           jpac_orange, jpac_purple, jpac_brown,\n",
    "           jpac_pink, jpac_gold, jpac_aqua, jpac_grey, 'black' ];\n",
    "\n",
    "###########################################################################################\n",
    "#   constantes fisicas\n",
    "###########################################################################################\n",
    "mpion = 0.139 #masa del pión cargado en GeV\n"
   ]
  },
  {
   "cell_type": "markdown",
   "id": "d00dd634",
   "metadata": {
    "id": "d00dd634"
   },
   "source": [
    "## Carga de las librerías con el modelo, la cinemática y la generación de datos\n",
    "\n",
    "Si todo ha ido bien deberá aparecer un número o el símbolo de *Play* en dentro del corchete a la izquierda de la celda. La celda anterior contiene código en un lenguaje de programación denominado Python. Todo lo que empieza con el caracter $\\#$ es comentario y no se ejecuta. El resto sí se ejecuta. Toda la práctica está escrita en Python. En primer lugar vamos a cargar unas cuantas librerías (pedazos de código que son reutilizables) con el cálculo de la cinemática y el modelo. Ejecute la siguiente celda:"
   ]
  },
  {
   "cell_type": "code",
   "execution_count": null,
   "id": "e9b3c05e",
   "metadata": {
    "id": "e9b3c05e"
   },
   "outputs": [],
   "source": [
    "def tau(s,m):\n",
    "    sth, a = 4.*m**2, 0;\n",
    "    if s>=sth: a = np.sqrt(1.-sth/s)\n",
    "    return a\n",
    "def phasespace(s,m):\n",
    "    return -np.sqrt(4*m**2-s-1j*0.000001);\n",
    "def energia_cm(s,m):\n",
    "    sth, a = 4.*m**2, 0;\n",
    "    if s>=sth: a = s/np.sqrt(2);\n",
    "    return a;\n",
    "def momento_cm(s,m):\n",
    "    sth, a = 4.*m**2, 0;\n",
    "    if s>=sth: a = np.sqrt(s-sth)/2.;\n",
    "    return a;\n",
    "def bkg(s,pol_c):\n",
    "    return pol_c[0] + pol_c[1]*s + pol_c[2]*s**2\n",
    "def modelo_k(s,espin,masa,acoplo):\n",
    "    k = np.zeros(max(espin)+1)\n",
    "    n = len(espin)\n",
    "    for i in range(n):\n",
    "        k[espin[i]] = k[espin[i]] + acoplo[i]*acoplo[i]/(masa[i]*masa[i]-s)\n",
    "    return k\n",
    "def modelo_t(s,espin,masa,acoplo):\n",
    "    k = modelo_k(s,espin,masa,acoplo)\n",
    "    t = np.zeros(len(k), dtype=complex)\n",
    "    for i in range(len(k)):\n",
    "        t[i]=k[i]/(1.-k[i]*phasespace(s,mpion))\n",
    "    return t\n",
    "def modelo_amplitud(s,theta,espin,masa,acoplo,pol_c):\n",
    "    t = modelo_t(s,espin,masa,acoplo)\n",
    "    n = len(t)\n",
    "    costheta = np.cos(theta)\n",
    "    amp = 1j*0. + bkg(s,pol_c)\n",
    "    for i in range(n):\n",
    "        p = legendre(i)\n",
    "        amp = amp + (2.*i+1.)*p(costheta)*t[i]\n",
    "    return 32.*np.pi*amp\n",
    "def dsigmadOmega(s,theta,espin,masa,acoplo,pol_c):\n",
    "    sth, a = 4.*mpion**2, 0;\n",
    "    if s>=sth: a = 1./momento_cm(s,mpion)/np.sqrt(s);\n",
    "    amp = modelo_amplitud(s,theta,espin,masa,acoplo,pol_c)\n",
    "    return a*(np.absolute(amp)**2 )/2.\n",
    "def generar_modelo(w_ini,w_fin,npoints,espin,masa,acoplo,pol_c):\n",
    "    x=np.linspace(w_ini,w_fin,npoints); \n",
    "    v = [modelo_amplitud(a**2,0.,espin,masa,acoplo,pol_c) for a in x]; \n",
    "    dsdO = [dsigmadOmega(a**2,0.,espin,masa,acoplo,pol_c) for a in x];\n",
    "    f = interp1d(x, dsdO/np.amax(dsdO), kind='cubic')\n",
    "    return f\n",
    "def generar_pseudodatos(w_ini,w_fin,ndatos,espin,masa,acoplo,pol_c):\n",
    "    npoints  = 1000; x = np.linspace(w_ini,w_fin,npoints); \n",
    "    fmodelo  = generar_modelo(w_ini,w_fin,npoints,espin,masa,acoplo,pol_c)\n",
    "    energias = np.random.uniform(w_ini,w_fin,ndatos)\n",
    "    modelo   = fmodelo(energias); modelo_o = fmodelo(x)\n",
    "    decidir  = np.random.uniform(0.,1.,ndatos)\n",
    "    pseudodatos = []\n",
    "    for i in range(ndatos):\n",
    "        if decidir[i]< modelo[i]:\n",
    "            pseudodatos.append(energias[i])\n",
    "    return energias, np.array(pseudodatos), x, modelo_o\n",
    "def figura_modelo_normalizado(w_ini,w_fin,espin,masa,acoplo,pol_c):\n",
    "    x = np.linspace(w_ini,w_fin,200); \n",
    "    v = [modelo_amplitud(a**2,0.,espin,masa,acoplo,pol_c) for a in x]; \n",
    "    dsdO = [dsigmadOmega(a**2,0.,espin,masa,acoplo,pol_c) for a in x];\n",
    "    plt.plot(x,dsdO/np.amax(dsdO),'-',c=jpac_blue);\n",
    "    plt.xlabel('W (GeV)'); plt.ylabel('Sección eficaz normalizada (adimensional)');\n",
    "    plt.show()\n",
    "    return\n",
    "def figura_bines(x,modelo,w_ini,w_fin,dato,numero_de_bins0,numero_de_bins1):\n",
    "    area = (w_fin-w_ini)*np.sum(modelo)/(x.size-1);\n",
    "    fig, subfig = plt.subplots(1,2,figsize=(10,5))\n",
    "    subfig[0].hist(dato, bins = numero_de_bins0,density=True,color=jpac_blue); \n",
    "    subfig[0].plot(x,modelo/area,c=jpac_orange);\n",
    "    subfig[0].set_xlabel('W (GeV)'); \n",
    "    subfig[0].set_ylabel('Densidad (adimensional)');\n",
    "    subfig[1].hist(dato, bins = numero_de_bins1,density=True,color=jpac_blue); \n",
    "    subfig[1].plot(x,modelo/area,color=jpac_orange);\n",
    "    subfig[1].set_xlabel('W (GeV)'); \n",
    "    subfig[1].set_ylabel('Densidad (adimensional)');\n",
    "    plt.show()\n",
    "    plt.close(fig)\n",
    "    return\n",
    "def figura_bines_zoom(x,modelo,w_ini,w_fin,dato,numero_de_bins0,numero_de_bins1,zoom1,zoom2):\n",
    "    area = (w_fin-w_ini)*np.sum(modelo)/(x.size-1);\n",
    "    fig, subfig = plt.subplots(1,2,figsize=(10,5))\n",
    "    subfig[0].hist(dato, bins = numero_de_bins0,density=True,color=jpac_blue); \n",
    "    subfig[0].plot(x,modelo/area,c=jpac_orange);\n",
    "    subfig[0].set_xlabel('W (GeV)'); \n",
    "    subfig[0].set_ylabel('Densidad (adimensional)');\n",
    "    subfig[0].set_xlim(zoom1,zoom2)\n",
    "    subfig[1].hist(dato, bins = numero_de_bins1,density=True,color=jpac_blue); \n",
    "    subfig[1].plot(x,modelo/area,color=jpac_orange);\n",
    "    subfig[1].set_xlabel('W (GeV)'); \n",
    "    subfig[1].set_ylabel('Densidad (adimensional)');\n",
    "    subfig[1].set_xlim(zoom1,zoom2)\n",
    "    plt.show()\n",
    "    plt.close(fig)\n",
    "    return"
   ]
  },
  {
   "cell_type": "markdown",
   "id": "2b3ade23",
   "metadata": {
    "id": "2b3ade23"
   },
   "source": [
    "En estos momentos ya tenemos disponibles las librerías que nos permiten generar los datos experimentales de acuerdo al modelo mediante un generador de número aleatorios, simulando lo que realmente ocurre en la naturaleza. A estos datos generados numéricamente se les denomina *pseudodatos*."
   ]
  },
  {
   "cell_type": "markdown",
   "id": "4beb8625",
   "metadata": {
    "id": "4beb8625"
   },
   "source": [
    "El modelo tiene algunas características configurables. En concreto:\n",
    " \n",
    " - El rango energético del par de piones iniciales\n",
    " - Los parámetros del fondo\n",
    " - El número de resonancias y sus características físicas: masa, espín y constante de acoplo de la resonancia al par $\\pi^+\\pi^-$\n",
    " - El número de pseudodatos a generar en total\n",
    "\n",
    "### Definición del rango energético\n",
    "-----------------------------------------------\n",
    "\n",
    "Comencemos definiendo el rango energético. Al ejecutar la siguiente celda el rango se define como $W\\in[0.4,0.9]$ GeV. Lo dejaremos así en toda la práctica."
   ]
  },
  {
   "cell_type": "code",
   "execution_count": null,
   "id": "b1eec9a5",
   "metadata": {
    "id": "b1eec9a5"
   },
   "outputs": [],
   "source": [
    "w_ini = 0.4; w_fin=0.9; "
   ]
  },
  {
   "cell_type": "markdown",
   "id": "3cd1610f",
   "metadata": {
    "id": "3cd1610f"
   },
   "source": [
    "El rango energético ya está definido. Fijemos los parámetros del fondo. El fondo está definido de la forma más simple posible: un polinomio $A(s)$ en la variable $s=W^2$. En concreto se utiliza un polinomio de grado 2. El fondo es entonces una función suave que no presenta ningún tipo de estructura, es decir, picos o valles en $P(W)$. La elección es por sencillez, se podrían construir fondos con otras formas funcionales. \n",
    "\n",
    "\n",
    "### Definición del *fondo* del modelo: \n",
    "\n",
    "La siguiente celda define los parámetros del polinomio que en este ejemplo será\n",
    "\n",
    "$$A(s) = 1 + 0.5\\: s + 0.3\\: s^2$$ \n",
    "\n",
    "Ejecute la siguiente celda:"
   ]
  },
  {
   "cell_type": "code",
   "execution_count": null,
   "id": "fe85bdf6",
   "metadata": {
    "id": "fe85bdf6"
   },
   "outputs": [],
   "source": [
    "pol_c=[1,0.5,0.3];"
   ]
  },
  {
   "cell_type": "markdown",
   "id": "9e671874",
   "metadata": {
    "id": "9e671874"
   },
   "source": [
    "### Definición de las *resonancias* del modelo\n",
    "\n",
    "Ahora corresponde definir las propiedades de las resonancias que compondrán el modelo. Las resonancias son las que proporcionarán estructura a la función $P(W)$, es decir harán que aparezcan picos y valles en los datos experimentales. Esto se hace mediante tres vectores, el de masa, el de espín y el de acoplos. Los tres vectores han de tener el mismo tamaño, ya que dicho tamaño es el número de resonancias que se incluirán. En este ejemplo vamos a incluir dos resonancias. Nuestras resonancias van a tener masas de 0.5 GeV y 0.780 GeV y así los definimos en la celda siguiente\n",
    "\n",
    "Ejecute la siguiente celda:"
   ]
  },
  {
   "cell_type": "code",
   "execution_count": null,
   "id": "37535be6",
   "metadata": {
    "id": "37535be6"
   },
   "outputs": [],
   "source": [
    "masa=[0.5,0.780]; "
   ]
  },
  {
   "cell_type": "markdown",
   "id": "2df61f38",
   "metadata": {
    "id": "2df61f38"
   },
   "source": [
    "Ahora corresponde definir el espín de las resonancias. Los piones iniciales tiene espín $0$ y tienen un momento angular relativo $L$. Por lo tanto, de acuerdo a la teoría de momento angular en mecánica cuántica, la resonancia tendrá un momento angular total (que será su espín) igual a $L$. En este ejemplo cada resonancia va a tener un espín diferente. La primera $0$ y la segunda $1$, según se define en la siguiente celda.\n",
    "\n",
    "Ejecute la siguiente celda:"
   ]
  },
  {
   "cell_type": "code",
   "execution_count": null,
   "id": "839a60d0",
   "metadata": {
    "id": "839a60d0"
   },
   "outputs": [],
   "source": [
    "espin=[0,1];"
   ]
  },
  {
   "cell_type": "markdown",
   "id": "b2edb5b3",
   "metadata": {
    "id": "b2edb5b3"
   },
   "source": [
    "Ahora vamos a definir los acoplos. Estos determinan la fuerza con la que la resonancia interacciona con el par de piones. Es preferible elegir valores en el rango $0<\\text{acoplo}<1$ y sus unidades es de GeV$^2$. En este ejemplo tomamos los dos valores de la siguiente celda.\n",
    "\n",
    "Ejecute la siguiente celda:"
   ]
  },
  {
   "cell_type": "code",
   "execution_count": null,
   "id": "5adff2e8",
   "metadata": {
    "id": "5adff2e8"
   },
   "outputs": [],
   "source": [
    "acoplo=[0.3,0.2];"
   ]
  },
  {
   "cell_type": "markdown",
   "id": "b552d236",
   "metadata": {
    "id": "b552d236"
   },
   "source": [
    "### Resumen del modelo definido y sus características físicas\n",
    "\n",
    "El modelo de amplitud que vamos a utilizar ya está completamente definido. Resumiendo:\n",
    "\n",
    "- Está definido en el rango de energías $W\\in[0.4,0.9]$ GeV\n",
    "- El fondo está dado por un polinomio: $A(s) = 1 + 0.5\\: s + 0.3\\: s^2$\n",
    "- Contiene dos resonancias con caractarísticas:\n",
    "    - Resonancia 1: masa=0.500 GeV, espín=0, acoplo=0.3 GeV$^2$\n",
    "    - Resonancia 2: masa=0.780 GeV, espín=1, acoplo=0.2 GeV$^2$\n",
    "\n",
    "Podemos ahora pintar qué aspecto tiene este modelo:"
   ]
  },
  {
   "cell_type": "code",
   "execution_count": null,
   "id": "08141618",
   "metadata": {
    "colab": {
     "base_uri": "https://localhost:8080/",
     "height": 279
    },
    "executionInfo": {
     "elapsed": 657,
     "status": "ok",
     "timestamp": 1643412063680,
     "user": {
      "displayName": "César Fernández Ramírez",
      "photoUrl": "https://lh3.googleusercontent.com/a-/AOh14GjorrrDy2Sf6QGDVn5m2fF_0jwm9Wnghx9qgBggwg=s64",
      "userId": "13617872215210162008"
     },
     "user_tz": 360
    },
    "id": "08141618",
    "outputId": "4b46e27e-562f-4e07-ab94-dacecc56afe5"
   },
   "outputs": [],
   "source": [
    "figura_modelo_normalizado(w_ini,w_fin,espin,masa,acoplo,pol_c);"
   ]
  },
  {
   "cell_type": "markdown",
   "id": "f46b6034",
   "metadata": {
    "id": "f46b6034"
   },
   "source": [
    "Dado que nos interesa la forma de la curva más que el valor absoluto, la sección eficaz está normalizada a su valor máximo. De esa manera el máximo valor que toma la curva en la figura es $1$.\n",
    "\n",
    "Hay varias características interesantes que se observan en la figura. La primera es un pico aproximadamente a $0.780$ GeV donde hemos puesto la resonancia 2. Esta es la estructura típica de una resonancia aislada (es decir, que no tiene otras resonancias cerca) que emerge en los datos experimentales. Por otro lado vemos otro pico a aproximadamente 0.5 GeV, cerca de donde hemos puesto la resonancia 1. Nos damos cuenta de que la resonancia 1 es más ancha que la 2. A dicho ancho se le suele llamar *anchura de línea* y es inversamente proporcional a vida media de la resonancia que se forma. En física hadrónica, la vida media es típicamente $\\sim10^{-23}$s. En este modelo, la anchura de línea viene determinada por el producto de la masa de la resonancia por el acoplo. Por ejemplo, si la masa es grande y el acoplo es grande se obtendrá un pico muy ancho.\n"
   ]
  },
  {
   "cell_type": "markdown",
   "id": "5f983904",
   "metadata": {
    "id": "5f983904"
   },
   "source": [
    "Vamos a modificar el modelo haciendo la primera resonancia más estrecha. Esto lo podemos lograr haciendo su acoplo muy pequeño volviendo a definir el vector de acoplos.\n",
    "\n",
    "Esto se hace en la siguiente celda. Ejecútela."
   ]
  },
  {
   "cell_type": "code",
   "execution_count": null,
   "id": "c5ce183c",
   "metadata": {
    "id": "c5ce183c"
   },
   "outputs": [],
   "source": [
    "acoplo=[0.07,0.2]; "
   ]
  },
  {
   "cell_type": "markdown",
   "id": "24a3bbe6",
   "metadata": {
    "id": "24a3bbe6"
   },
   "source": [
    "En donde hemos fijado el acoplo de la resonancia 1 a 0.07 GeV$^2$ manteniedo el de la resonancia 2 a 0.2 GeV$^2$. Volvemos a pintar la sección eficaz normalizada para ver qué aspecto tiene.\n",
    "\n",
    "Ejecute la siguiente celda"
   ]
  },
  {
   "cell_type": "code",
   "execution_count": null,
   "id": "c3c89178",
   "metadata": {
    "colab": {
     "base_uri": "https://localhost:8080/",
     "height": 279
    },
    "executionInfo": {
     "elapsed": 623,
     "status": "ok",
     "timestamp": 1643412070810,
     "user": {
      "displayName": "César Fernández Ramírez",
      "photoUrl": "https://lh3.googleusercontent.com/a-/AOh14GjorrrDy2Sf6QGDVn5m2fF_0jwm9Wnghx9qgBggwg=s64",
      "userId": "13617872215210162008"
     },
     "user_tz": 360
    },
    "id": "c3c89178",
    "outputId": "7f5864d5-302b-4b64-8e40-9d6fd56f9759"
   },
   "outputs": [],
   "source": [
    "figura_modelo_normalizado(w_ini,w_fin,espin,masa,acoplo,pol_c);"
   ]
  },
  {
   "cell_type": "markdown",
   "id": "f03952e6",
   "metadata": {
    "id": "f03952e6"
   },
   "source": [
    "Se observa cómo ahora el pico asociado a la resonancia 1 es muy estrecho. Vamos a trabajar con esta versión del modelo.\n",
    "\n",
    "### Generación de *pseudodatos* de acuerdo al modelo\n",
    "\n",
    "En los experimentos se recogen datos y a mayor cantidad de datos, más precisión en el resultado. En esta práctica los datos se generarán de acuerdo a un modelo. Por lo tanto vamos a poder comprobar si con un conjunto limitado de datos podemos recuperar la física subyacente. Empecemos con una cantidad pequeña, generamos $N_\\text{ini}=1000$ pares de piones (eventos). Ejecute la siguiente celda:"
   ]
  },
  {
   "cell_type": "code",
   "execution_count": null,
   "id": "529239a8",
   "metadata": {
    "id": "529239a8"
   },
   "outputs": [],
   "source": [
    "n_datos_ini=1000;"
   ]
  },
  {
   "cell_type": "markdown",
   "id": "eb72b845",
   "metadata": {
    "id": "eb72b845"
   },
   "source": [
    "1000 eventos es muy poco. Sobre todo si tenemos en cuenta que, como se dijo en la introducción de la práctica, muchos pares de piones no van a llegar a interaccionar. Ejecute la siguiente celda que genera los eventos y los hace interaccionar:"
   ]
  },
  {
   "cell_type": "code",
   "execution_count": null,
   "id": "9c146a4c",
   "metadata": {
    "colab": {
     "base_uri": "https://localhost:8080/"
    },
    "executionInfo": {
     "elapsed": 1215,
     "status": "ok",
     "timestamp": 1643412078299,
     "user": {
      "displayName": "César Fernández Ramírez",
      "photoUrl": "https://lh3.googleusercontent.com/a-/AOh14GjorrrDy2Sf6QGDVn5m2fF_0jwm9Wnghx9qgBggwg=s64",
      "userId": "13617872215210162008"
     },
     "user_tz": 360
    },
    "id": "9c146a4c",
    "outputId": "f371aa22-8635-443c-9d95-647f7f76e7d8"
   },
   "outputs": [],
   "source": [
    "np.random.seed(2529)\n",
    "w, dato, x, modelo = generar_pseudodatos(w_ini,w_fin,n_datos_ini,espin,masa,acoplo,pol_c); \n",
    "print(\"Nini=\",n_datos_ini,\";  Nfin=\",dato.size)"
   ]
  },
  {
   "cell_type": "markdown",
   "id": "3d2ebeb5",
   "metadata": {
    "id": "3d2ebeb5"
   },
   "source": [
    "Los  números que aparecen son $N_\\text{ini}$ y $N_\\text{fin}$. Es decir, el número pares de piones que hemos creado y el número que realmente ha interaccionado. Aproximadamente debe salir que $1/4$ han interaccionado, luego $3/4$ de los pares de piones no llegaron a interaccionar. \n",
    "\n",
    "Ahora vamos a representar los datos en un histograma agrupándolos en 10 (figura de la izquierda) y en 50 (figura de la derecha) *bines* de energía. Es decir, en la figura de la izquierda cada barra tiene un ancho de 0.05 GeV (50 MeV) mientras que en la de la derecha tienen un ancho de 0.01 GeV (10 MeV)."
   ]
  },
  {
   "cell_type": "code",
   "execution_count": null,
   "id": "78440933",
   "metadata": {
    "colab": {
     "base_uri": "https://localhost:8080/",
     "height": 334
    },
    "executionInfo": {
     "elapsed": 730,
     "status": "ok",
     "timestamp": 1643412081315,
     "user": {
      "displayName": "César Fernández Ramírez",
      "photoUrl": "https://lh3.googleusercontent.com/a-/AOh14GjorrrDy2Sf6QGDVn5m2fF_0jwm9Wnghx9qgBggwg=s64",
      "userId": "13617872215210162008"
     },
     "user_tz": 360
    },
    "id": "78440933",
    "outputId": "f1a06181-c704-4066-ed7b-863174a3cd26"
   },
   "outputs": [],
   "source": [
    "figura_bines(x,modelo,w_ini,w_fin,dato,10,50);"
   ]
  },
  {
   "cell_type": "markdown",
   "id": "a384ae00",
   "metadata": {
    "id": "a384ae00"
   },
   "source": [
    "Las figuras representan la densidad, por lo que su integral está normalizada a 1. Para generar las figuras hemos tenido que ejecutar la librería siguiente:\n",
    "\n",
    "<code>figura_bines(x,modelo,w_ini,w_fin,dato,10,50);</code>\n",
    "\n",
    "donde <code>w_fin</code> y <code>w_ini</code> son las energías finales e iniciales que definimos anteriormente $W\\in[0.4,0.9]$ GeV, <code>x</code> y <code>modelo</code> son dos vectores que contienen la información para pintar el modelo: la curva naranja, <code>dato</code> es un vector que contiene los pseudodatos que representamos en los histogramas, y los dos últimos números indican el número de *bines* de la figura de la izquierda <code>10</code> y de la figura de la derecha <code>50</code>. Los vectores <code>x</code>, <code>modelo</code> y <code>dato</code> fueron construidos en la celda anterior que generaba los pseudodatos.\n",
    "\n",
    "Hay varias cosas que podemos observar. La primera es que el pico estrecho no se reproduce en absoluto. Eso es debido a que no hemos recogido suficientes eventos como para tener la suficiente precisión para poder observarlo. Este es un problema típico en este tipo de experimentos, para observar una señal hace falta llegar a un número suficiente de eventos observados. El segundo pico sí se consigue observar pero no se reproduce con mucha precisión. De nuevo, hacen falta más eventos para reproducirlo correctamente. Finalmente, vemos que cuando tenemos muchos *bines* aparece mucho *ruido* en los datos y podemos pensar que ahí tenemos resonancias u otra física interesante. Como sabemos del modelo, no hay nada ahí, y lo que estamos observando es ruido estadísitico que se debería resolver, otra vez, acumulando más eventos. Esto último es un riesgo que se produce en los experimentos de física de altas energías: confundir lo que es simple ruido estadístico con el descubrimiento de una nueva partícula. Por ello, los análisis de los datos se deben hacer con mucho cuidado teniendo en cuenta estos efectos y sólo se afirma que se ha encontrado una nueva partícula si se cumplen ciertos umbrales de calidad. Un par de ejemplos son el descubrimiento del bosón de Higgs: https://es.wikipedia.org/wiki/Bos%C3%B3n_de_Higgs#Se_descubre_un_nuevo_bos%C3%B3n que sí cumple los estándares de calidad y se ha confirmado su existencia o el de una señal a 750 GeV que encontró LHC pero que al final con más eventos *desapareció* de los datos experimentales pues era ruido estadístico: https://www.scientificamerican.com/espanol/noticias/el-lhc-observa-posibles-indicios-de-un-nuevo-boson/\n",
    "\n",
    "A continuación vamos a trabajar con muchos más eventos, en concreto $10^5$. Ejecute la siguiente celda:"
   ]
  },
  {
   "cell_type": "code",
   "execution_count": null,
   "id": "84b98d82",
   "metadata": {
    "id": "84b98d82"
   },
   "outputs": [],
   "source": [
    "n_datos_ini=100000;"
   ]
  },
  {
   "cell_type": "markdown",
   "id": "df2b138d",
   "metadata": {},
   "source": [
    "Así hemos redefinido <code>n_datos_ini</code> que ahora, en lugar de contener el número $1000$, contiene el número $10^5$. En la siguiente celda generamos los nuevos pseudodatos:"
   ]
  },
  {
   "cell_type": "code",
   "execution_count": null,
   "id": "4d62b9ef",
   "metadata": {
    "colab": {
     "base_uri": "https://localhost:8080/"
    },
    "executionInfo": {
     "elapsed": 1257,
     "status": "ok",
     "timestamp": 1643412088482,
     "user": {
      "displayName": "César Fernández Ramírez",
      "photoUrl": "https://lh3.googleusercontent.com/a-/AOh14GjorrrDy2Sf6QGDVn5m2fF_0jwm9Wnghx9qgBggwg=s64",
      "userId": "13617872215210162008"
     },
     "user_tz": 360
    },
    "id": "4d62b9ef",
    "outputId": "083785fe-2470-4be0-b9bb-5616ff9d70cf"
   },
   "outputs": [],
   "source": [
    "np.random.seed(1729)\n",
    "w, dato, x, modelo = generar_pseudodatos(w_ini,w_fin,n_datos_ini,espin,masa,acoplo,pol_c); \n",
    "print(\"Nini=\",n_datos_ini,\";  Nfin=\",dato.size)"
   ]
  },
  {
   "cell_type": "markdown",
   "id": "e58c3287",
   "metadata": {},
   "source": [
    "De nuevo, los  números que aparecen son $N_\\text{ini}$ y $N_\\text{fin}$. Es decir, el número pares de piones que hemos creado y el número que realmente ha interaccionado. Como vemos, el número de eventos que tenemos ahora en $N_\\text{fin}$ es mucho mayor. Pintamos los histogramas para este caso con muchos más eventos también con bines de 0.05 GeV (izquierda) y 0.01 GeV (derecha):"
   ]
  },
  {
   "cell_type": "code",
   "execution_count": null,
   "id": "d494837d",
   "metadata": {
    "colab": {
     "base_uri": "https://localhost:8080/",
     "height": 334
    },
    "executionInfo": {
     "elapsed": 2429,
     "status": "ok",
     "timestamp": 1643412092047,
     "user": {
      "displayName": "César Fernández Ramírez",
      "photoUrl": "https://lh3.googleusercontent.com/a-/AOh14GjorrrDy2Sf6QGDVn5m2fF_0jwm9Wnghx9qgBggwg=s64",
      "userId": "13617872215210162008"
     },
     "user_tz": 360
    },
    "id": "d494837d",
    "outputId": "d4bd5395-8d0d-4ecf-870d-2a6c03cff10f"
   },
   "outputs": [],
   "source": [
    "figura_bines(x,modelo,w_ini,w_fin,dato,10,50);"
   ]
  },
  {
   "cell_type": "markdown",
   "id": "f8f4b223",
   "metadata": {},
   "source": [
    "Ahora se observa que incluso con pocos *bines* podemos ver que algo está ocurriendo cerca de 500 MeV. Con 50 *bines* observamos que se recupera perfectamente la forma de la curva teórica. Incluso tenemos suficientes eventos como para tener bines más pequeños. Ejecute la siguiente celda para dibujar los eventos con 100 y 500 *bines*"
   ]
  },
  {
   "cell_type": "code",
   "execution_count": null,
   "id": "ea9b7eab",
   "metadata": {
    "id": "ea9b7eab"
   },
   "outputs": [],
   "source": [
    "figura_bines(x,modelo,w_ini,w_fin,dato,100,500);"
   ]
  },
  {
   "cell_type": "markdown",
   "id": "19984749",
   "metadata": {
    "id": "8fba1576",
    "outputId": "c7bcd658-1e96-4ded-d114-f579ce5c2e7f"
   },
   "source": [
    "Se observa claramente el efecto de tener suficientes eventos como para hacer *bines* muy pequeños. Se observa cómo en las dos últimas figuras se reproducen muy bien la teoría y se podrán determinar las propiedades de las resonancias. Además, en la figura de la derecha, donde hemos utilizado 500 *bines* (es decir, cada *bin* tiene un ancho de 1 MeV) se observa cómo hay más ruido estadístico. Para ver mejor vamos a hacer zoom en ciertas regiones. Para ello usamos la librería:\n",
    "\n",
    "<code>figura_bines_zoom(x,modelo,w_ini,w_fin,dato,100,200,0.55,0.75);</code>\n",
    "\n",
    "Que es igual que <code>figure_bines</code> sólo que al final tiene dos número adicionales para indicar el rango del eje $x$ en el que vamos a pintar la figura. Fijémonos en el primer pico haciendo zoom a la región entre 0.48 GeV y 0.52 GeV"
   ]
  },
  {
   "cell_type": "code",
   "execution_count": null,
   "id": "89270585",
   "metadata": {},
   "outputs": [],
   "source": [
    "figura_bines_zoom(x,modelo,w_ini,w_fin,dato,100,500,0.480,0.520);"
   ]
  },
  {
   "cell_type": "markdown",
   "id": "8cad522b",
   "metadata": {},
   "source": [
    "Como se ve, la posición del pico se reproduce muy bien, pero no la intensidad. Cuanto más bines tenemos, mejor reproducimos el pico y el valle. Sin embargo, pagamos un precio, y es que el ruido estadístico que tenemos en cada bin es mayor. Veamos qué ocurre si *nos pasamos* con el número de *bines*. Pongamos 1500 por ejemplo. Ejecute la siguiente celda para comparar 500 y 1500 *bines*."
   ]
  },
  {
   "cell_type": "code",
   "execution_count": null,
   "id": "64877322",
   "metadata": {},
   "outputs": [],
   "source": [
    "figura_bines_zoom(x,modelo,w_ini,w_fin,dato,500,1500,0.480,0.520);"
   ]
  },
  {
   "cell_type": "markdown",
   "id": "072ebc41",
   "metadata": {},
   "source": [
    "En la figura de la derecha vemos que parece que hay muchas estructuras, pero en realidad son consecuencia del ruido estadístico. Es decir, el número de bines que vamos a poder poner va a depender del número total de eventos que tengamos medidos. Para poder ser muy finos en el eje de la energía vamos a necesitar muchos eventos. Ese es el motivo por el que los aceleradores de partículas colisionan muchas partículas por segundo e intentan tener haces de partículas muy intensos: para acumular la mayor cantidad de eventos posibles de las reacciones de interés. Esta intensidad se mide mediante un parámetro denominado *Luminosidad*. Para el caso del LHC puede encontrar más información aquí: https://www.lhc-closer.es/taking_a_closer_look_at_lhc/0.luminosity/idioma/es_ES\n",
    "\n",
    "Veamos ahora más de cerca el segundo pico con 100 y 500 *bines*."
   ]
  },
  {
   "cell_type": "code",
   "execution_count": null,
   "id": "e2eb7eeb",
   "metadata": {},
   "outputs": [],
   "source": [
    "figura_bines_zoom(x,modelo,w_ini,w_fin,dato,100,500,0.70,0.80);"
   ]
  },
  {
   "cell_type": "markdown",
   "id": "43a2f110",
   "metadata": {},
   "source": [
    "Claramente se observa que el pico se reproduce perfectamente. En este caso podemos obtener con mucha precisión los parámetros de esta resonancia con este número de eventos. Veamos ahora la región intermedia, que sabemos es una zona suave sin estructuras relevantes. De nuevo, para 100 y 500 *bines*"
   ]
  },
  {
   "cell_type": "code",
   "execution_count": null,
   "id": "df371a11",
   "metadata": {},
   "outputs": [],
   "source": [
    "figura_bines_zoom(x,modelo,w_ini,w_fin,dato,100,500,0.60,0.70);"
   ]
  },
  {
   "cell_type": "markdown",
   "id": "f8b8df99",
   "metadata": {},
   "source": [
    "Se observa muy bien el efecto de tener *bines* muy pequeños en la figura derecha. De nuevo, si hacemos *bines* muy estrechos vamos a tener ruido estadístico mayor. Al final, en un experimento real hay que llegar a un equilibrio entre el número de eventos de que disponemos y lo estrechos que haremos los *bines* en el histograma."
   ]
  },
  {
   "cell_type": "markdown",
   "id": "4fbe8e44",
   "metadata": {},
   "source": [
    "---\n",
    "\n",
    "**Con esto se termina el ejemplo. A continuación proceda a realizar el siguiente ejercicio.**\n",
    "\n",
    "---"
   ]
  },
  {
   "cell_type": "markdown",
   "id": "65594f31",
   "metadata": {},
   "source": [
    "## Problema"
   ]
  },
  {
   "cell_type": "markdown",
   "id": "8d9119cc",
   "metadata": {},
   "source": [
    "Haga lo mismo que en el caso anterior para 3 resonancias con las siguientes características:\n",
    "\n",
    "- Resonancia 1: Masa = 0.500 GeV, espín = 3, acoplo = 0.4\n",
    "- Resonancia 2: Masa = 1.000 GeV, espín = 2, acoplo = 0.8\n",
    "- Resonancia 3: Masa = 0.800 GeV, espín = 1, acoplo = 0.2\n",
    "\n",
    "El fondo será el mismo que para el caso de ejemplo y el número de eventos iniciales $10^5$\n",
    "\n",
    "Para ello sólo necesita rellenar adecuadamente las siguientes celdas sustituyendo los puntos suspensivos por los números y comandos adecuados, y ejecutarlas. Al final tendrá una celda en la que tendrá que explicar lo que se observa de manera similar al ejemplo anterior y responder algunas preguntas.\n",
    "\n",
    "\n",
    "Empiece por definir el mismo fondo que para el ejemplo anterior:"
   ]
  },
  {
   "cell_type": "code",
   "execution_count": null,
   "id": "7e7f325d",
   "metadata": {},
   "outputs": [],
   "source": [
    "pol_c=...;"
   ]
  },
  {
   "cell_type": "markdown",
   "id": "66808c4f",
   "metadata": {},
   "source": [
    "Y ahora las resonancias:"
   ]
  },
  {
   "cell_type": "code",
   "execution_count": null,
   "id": "118a5f47",
   "metadata": {},
   "outputs": [],
   "source": [
    "masa=[...]; espin=[...]; acoplo=[...];"
   ]
  },
  {
   "cell_type": "markdown",
   "id": "42ad4534",
   "metadata": {},
   "source": [
    "Pinte el modelo:"
   ]
  },
  {
   "cell_type": "code",
   "execution_count": null,
   "id": "ca16b6d1",
   "metadata": {},
   "outputs": [],
   "source": [
    "figura_modelo_normalizado(w_ini,w_fin,espin,masa,acoplo,pol_c);"
   ]
  },
  {
   "cell_type": "markdown",
   "id": "45dba59e",
   "metadata": {},
   "source": [
    "Indique el número de eventos en la siguiente celda (sustituya los puntos suspensivos por el número adecuado):"
   ]
  },
  {
   "cell_type": "code",
   "execution_count": null,
   "id": "78003202",
   "metadata": {},
   "outputs": [],
   "source": [
    "n_datos_ini=...;"
   ]
  },
  {
   "cell_type": "code",
   "execution_count": null,
   "id": "0e5b9595",
   "metadata": {},
   "outputs": [],
   "source": [
    "w, dato, x, modelo = generar_pseudodatos(w_ini,w_fin,n_datos_ini,espin,masa,acoplo,pol_c); \n",
    "print(\"Nini=\",n_datos_ini,\";  Nfin=\",dato.size)"
   ]
  },
  {
   "cell_type": "markdown",
   "id": "07b522ff",
   "metadata": {},
   "source": [
    "Dibuje dos histogramas con pocos *bines* (sustituya los puntos suspensivos por los números adecuados)"
   ]
  },
  {
   "cell_type": "code",
   "execution_count": null,
   "id": "fe504bee",
   "metadata": {},
   "outputs": [],
   "source": [
    "figura_bines(x,modelo,w_ini,w_fin,dato,...,...);"
   ]
  },
  {
   "cell_type": "markdown",
   "id": "87819693",
   "metadata": {},
   "source": [
    "Ahora las mismas dos figuras pero con suficientes *bines* como para que la estructura se aprecie bien (sustituya los puntos suspensivos por los números adecuados)"
   ]
  },
  {
   "cell_type": "code",
   "execution_count": null,
   "id": "738d9886",
   "metadata": {},
   "outputs": [],
   "source": [
    "figura_bines(x,modelo,w_ini,w_fin,dato,...,...);"
   ]
  },
  {
   "cell_type": "markdown",
   "id": "bb8b7f44",
   "metadata": {},
   "source": [
    "Haga zoom en las regiones significativas (copie y pegue el número de veces que necesite la función para hacer zoom)"
   ]
  },
  {
   "cell_type": "code",
   "execution_count": null,
   "id": "af91f0ea",
   "metadata": {},
   "outputs": [],
   "source": [
    "figura_bines_zoom(x,modelo,w_ini,w_fin,dato,...,...,...,...);"
   ]
  },
  {
   "cell_type": "markdown",
   "id": "c49da255",
   "metadata": {},
   "source": [
    "## Preguntas"
   ]
  },
  {
   "cell_type": "markdown",
   "id": "9fbf53ac",
   "metadata": {},
   "source": [
    "**En las siguientes celdas introduzca la respuesta (argumentada) a las preguntas que se realizan basándose en los resultados obtenidos. Para editar la celda de respuesta haga doble click en ella. Cuando acabe pulse <kbd>Shift</kbd>+<kbd>Enter</kbd> (se puede editar tantas veces como necesite)**"
   ]
  },
  {
   "cell_type": "markdown",
   "id": "c1833a06",
   "metadata": {},
   "source": [
    "**Pregunta 1: ¿Cuántos picos observa en la sección eficaz normalizada del modelo y a qué energías?**"
   ]
  },
  {
   "cell_type": "markdown",
   "id": "ebe74406",
   "metadata": {},
   "source": [
    "*Respuesta:*"
   ]
  },
  {
   "cell_type": "markdown",
   "id": "01604d31",
   "metadata": {},
   "source": [
    "**Pregunta 2: ¿Son distinguibles todas las resonancias en los datos experimentales? ¿Por qué? Si no lo fueran ¿podrían llegar a serlo aumentando la cantidad de eventos?** "
   ]
  },
  {
   "cell_type": "markdown",
   "id": "54ebbcfb",
   "metadata": {},
   "source": [
    "*Respuesta*"
   ]
  },
  {
   "cell_type": "markdown",
   "id": "afb4f033",
   "metadata": {},
   "source": [
    "**Pregunta 3: Dado un bin del histograma, éste contiene una cantidad de eventos $N_{eventos}$ que se corresponde a todos los eventos con energía $W$ en un rango pequeño. Si quisiéramos asociarle una incertidumbre a $N_{eventos}$ ¿cuál sería y por qué?**"
   ]
  },
  {
   "cell_type": "markdown",
   "id": "a1801fe6",
   "metadata": {},
   "source": [
    "*Respuesta*"
   ]
  },
  {
   "cell_type": "markdown",
   "id": "0cad769e",
   "metadata": {},
   "source": [
    "**Pregunta 4: El observable que se ha calculado es la sección eficaz normalizada. A partir de los eventos recogidos en el detector, construya algún otro observable**"
   ]
  },
  {
   "cell_type": "markdown",
   "id": "f7972e5c",
   "metadata": {},
   "source": [
    "*Respuesta*"
   ]
  },
  {
   "cell_type": "markdown",
   "id": "f125ec61",
   "metadata": {},
   "source": [
    "**Con esto se termina la práctica. Proceda a imprimirla. En Google Colab vaya al menú Archivo arriba a la izquierda y selecciones Imprimir. En Binder o en Anaconda vaya al menú File arriba a la izquierda y seleccione Print. Se debería generar un pdf con toda la práctica. Suba el pdf al apartado de Tarea correspondiente del AGORA**"
   ]
  },
  {
   "cell_type": "code",
   "execution_count": null,
   "id": "211ba963",
   "metadata": {},
   "outputs": [],
   "source": []
  }
 ],
 "metadata": {
  "colab": {
   "name": "TCIV.ipynb",
   "provenance": []
  },
  "kernelspec": {
   "display_name": "Python 3 (ipykernel)",
   "language": "python",
   "name": "python3"
  },
  "language_info": {
   "codemirror_mode": {
    "name": "ipython",
    "version": 3
   },
   "file_extension": ".py",
   "mimetype": "text/x-python",
   "name": "python",
   "nbconvert_exporter": "python",
   "pygments_lexer": "ipython3",
   "version": "3.9.15"
  }
 },
 "nbformat": 4,
 "nbformat_minor": 5
}
